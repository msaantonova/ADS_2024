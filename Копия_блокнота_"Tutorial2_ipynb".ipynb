{
  "nbformat": 4,
  "nbformat_minor": 0,
  "metadata": {
    "colab": {
      "provenance": [],
      "include_colab_link": true
    },
    "kernelspec": {
      "name": "python3",
      "display_name": "Python 3"
    }
  },
  "cells": [
    {
      "cell_type": "markdown",
      "metadata": {
        "id": "view-in-github",
        "colab_type": "text"
      },
      "source": [
        "<a href=\"https://colab.research.google.com/github/msaantonova/ADS_2024/blob/master/%D0%9A%D0%BE%D0%BF%D0%B8%D1%8F_%D0%B1%D0%BB%D0%BE%D0%BA%D0%BD%D0%BE%D1%82%D0%B0_%22Tutorial2_ipynb%22.ipynb\" target=\"_parent\"><img src=\"https://colab.research.google.com/assets/colab-badge.svg\" alt=\"Open In Colab\"/></a>"
      ]
    },
    {
      "cell_type": "markdown",
      "source": [
        "# Tutorial 2: Introduction to Computational Linguistics\n",
        "\n",
        "This is the first tutorial with practical exercises for the lecture *Introduction to Computational Linguistics* in the winter semester 2024. Hands-on exercises are marked with 👋 ⚒ and questions are marked with ❓."
      ],
      "metadata": {
        "id": "N4_fSCGEAFZ3"
      }
    },
    {
      "metadata": {
        "id": "ZvZfzSn7bXVl"
      },
      "cell_type": "markdown",
      "source": [
        "## **Store this notebook**\n",
        "\n",
        "Go to **File** and make sure you store this file as a local copy to either your GitHub or Google Drive. If you do not have a Google account and also do not want to create one, please check Option C below."
      ]
    },
    {
      "metadata": {
        "id": "K7PUvU1f4H7C"
      },
      "cell_type": "markdown",
      "source": [
        "\n",
        "## Option A)  Google Drive\n",
        "\n",
        "Go to the menu **File** and click on **Save a Copy in Drive**. The advantage of this option is that your changes in the notebook will be saved regularly. If you wish to move the file to a specific folder, click on **Move** and the select the corresponding folder in your Google Drive.\n"
      ]
    },
    {
      "metadata": {
        "id": "yVnqNjmt4O3y"
      },
      "cell_type": "markdown",
      "source": [
        "## Option B) GitHub\n",
        "\n",
        "\n",
        "Go to the menu **File** and click on **Save a Copy in GitHub**, select the repository on your GitHub account to which you wish to push the Colab notebook. Note that this option does not automatically save changes in your Colab notebook."
      ]
    },
    {
      "metadata": {
        "id": "3GhgHq-n4hZX"
      },
      "cell_type": "markdown",
      "source": [
        "## Option C) Download this notebook as ipynb (Jupyter notebook) or py (Python file)\n",
        "\n",
        "To run this notebook as Jupyter notebook or Python file on your local machine, Python and NLTK need to be installed. Within the course of the semester several more local installations will be required.  \n",
        "\n",
        "To run a Jupyter notebook the easiest option is to install [Anacadonda](https://www.anaconda.com/). A Python file can be run directly from the command line or in an Integrated Development Environment (IDE), such as [PyCharm](https://www.jetbrains.com/de-de/pycharm/)."
      ]
    },
    {
      "metadata": {
        "id": "1FdcGIjPuBYP"
      },
      "cell_type": "markdown",
      "source": [
        "-----------\n",
        "## **Lesson 1: Morphological/Syntactic Analysis with NLP libraries**\n",
        "Today we will look at three different Natural Language Processing (NLP) libraries to perform typical NLP steps. [StanfordNLP](http://stanza.run/), [Natural Language ToolKit (NLTK)](https://www.nltk.org/), and [spaCy](https://spacy.io/).\n",
        "\n",
        "The fist step is to install the Stanza software library to make it available in our notebook. This is equivalent to installing a Python package on your computer via the command line or directly in PyCharm.  "
      ]
    },
    {
      "cell_type": "code",
      "source": [
        "!pip install stanza\n",
        "!pip install peft"
      ],
      "metadata": {
        "id": "7kBLlCfk0iQS"
      },
      "execution_count": null,
      "outputs": []
    },
    {
      "cell_type": "markdown",
      "source": [
        "NLTK and spaCy are already available in a standard Colab Notebook, however, we need to download some packages that we will need in NLTK."
      ],
      "metadata": {
        "id": "XZNiWBXQ0kFy"
      }
    },
    {
      "metadata": {
        "id": "nF_cL6UMusZG"
      },
      "cell_type": "code",
      "source": [
        "import nltk\n",
        "nltk.download('averaged_perceptron_tagger')\n",
        "nltk.download('punkt')\n",
        "nltk.download('wordnet')\n",
        "nltk.download('gutenberg')"
      ],
      "execution_count": null,
      "outputs": []
    },
    {
      "cell_type": "markdown",
      "source": [
        "We also need to download the specific model for the specific language with spaCy."
      ],
      "metadata": {
        "id": "MPTTgWCfTTAf"
      }
    },
    {
      "cell_type": "code",
      "source": [
        "!python -m spacy download en_core_web_sm"
      ],
      "metadata": {
        "id": "FNXoYMw6TYe8"
      },
      "execution_count": null,
      "outputs": []
    },
    {
      "cell_type": "markdown",
      "source": [
        "## Tokenization and Part-of-Speech (POS) Tagging\n",
        "\n",
        "Tokenization is the process of separating character sequences into smaller pieces, called tokens. In this process certain characters might be omitted, such as punctuation (depending on the tokenizer).\n",
        "\n",
        "Part-of-Speech (POS) Tagging represents a process to classify and label each word by its part-of-speec, i.e., word class. Typical tag sets that are used for these labels are the [Penn Treebank tagset](https://www.ling.upenn.edu/courses/Fall_2003/ling001/penn_treebank_pos.html) and the Univrsal [POS Tags](https://universaldependencies.org/u/pos/).\n",
        "\n",
        "The first library we will use is the traditional NLTK lirbary to tokenize and POS tag a sample sentence. The tagset that the Perceptron Tagger uses is the [Penn Treebank tagset](https://www.ling.upenn.edu/courses/Fall_2003/ling001/penn_treebank_pos.html).\n",
        "\n",
        "❓ After you run the following code cell, are the POS tags for the two different uses of *tears* correct? How does their pronunciation differ?\n"
      ],
      "metadata": {
        "id": "7tElhK1P1F5I"
      }
    },
    {
      "cell_type": "code",
      "source": [
        "# Tokenization\n",
        "from nltk.tokenize import word_tokenize\n",
        "# Part-of-Speech tagger\n",
        "from nltk.tag.perceptron import PerceptronTagger\n",
        "\n",
        "# Example sentences\n",
        "example_sentence = \"It just tears me apart to see you suffering like that and in tears.\"\n",
        "\n",
        "# Initializing POS tagger\n",
        "tagger = PerceptronTagger()\n",
        "\n",
        "# Tokenize the sentence\n",
        "print(\"Tokenized sentence: \", word_tokenize(example_sentence))\n",
        "\n",
        "# POS tag each token in the tokenized sentence\n",
        "pos_tags = tagger.tag(word_tokenize(example_sentence))\n",
        "print(\"POS tags: \", pos_tags)"
      ],
      "metadata": {
        "id": "paqFovnH1stQ"
      },
      "execution_count": null,
      "outputs": []
    },
    {
      "cell_type": "markdown",
      "source": [
        "👋 ⚒ Try to do perform tokenization and POS tagging on the same example sentence using spaCy. Complement the code cell below by following the instructions in the [spaCy documentation](https://spacy.io/usage/linguistic-features).\n",
        "\n",
        "❓ Are the POS tags and word classes identical to those of the NLTK output?"
      ],
      "metadata": {
        "id": "LlDG3YcL9Gke"
      }
    },
    {
      "cell_type": "code",
      "source": [
        "import spacy\n",
        "\n",
        "# Loading a specific spaCy model for a specific language\n",
        "nlp = spacy.load(\"en_core_web_sm\")\n",
        "\n",
        "# Your code here"
      ],
      "metadata": {
        "id": "UE1Lg55848Ku"
      },
      "execution_count": null,
      "outputs": []
    },
    {
      "cell_type": "markdown",
      "source": [
        "## Lemmatization\n",
        "Lemmatization is the process of reducing words to their base forms. It allows to group identical words with different inflections in a corpus.\n",
        "\n"
      ],
      "metadata": {
        "id": "F5X_OZdY5fq2"
      }
    },
    {
      "cell_type": "code",
      "source": [
        "# Lemmatizer\n",
        "from nltk.stem import WordNetLemmatizer\n",
        "\n",
        "# Initialize lemmatizer\n",
        "lemmatizer = WordNetLemmatizer()\n",
        "\n",
        "example_word = \"mice\"\n",
        "lemmatized_word = lemmatizer.lemmatize(example_word)\n",
        "\n",
        "print(f\"The lemmatized version of  {example_word} is {lemmatized_word}.\")\n",
        "print(\"The lemmatized version of %s is %s\" % (example_word,lemmatized_word))"
      ],
      "metadata": {
        "id": "BAvmUcdm5vaT"
      },
      "execution_count": null,
      "outputs": []
    },
    {
      "cell_type": "markdown",
      "source": [
        "With spaCy the code is very much the same for lemmatization as for tokenization and POS tagging, exemplified for our example sentence below."
      ],
      "metadata": {
        "id": "kbsKYbiI9pnz"
      }
    },
    {
      "cell_type": "code",
      "source": [
        "doc = nlp(example_word)\n",
        "for token in doc:\n",
        "    print(token.text, token.lemma_)"
      ],
      "metadata": {
        "id": "io8rSLXV9qVX"
      },
      "execution_count": null,
      "outputs": []
    },
    {
      "cell_type": "markdown",
      "source": [
        "👋 ⚒ Lemmatize all word in the following list directly comparing the output of the WordNetLemmatizer and spaCy Lemmatizer. Which words are changed and which ones not and why? Are there any differences between the two NLP libraries?"
      ],
      "metadata": {
        "id": "k_tNwqxG8L0E"
      }
    },
    {
      "cell_type": "code",
      "source": [
        "word_list = ['presumably', 'provisions', 'owed', 'abacus', 'flies', 'dies', 'mules',\n",
        "        'seizing', 'caresses', 'sensational', 'colonizer', 'traditional', 'plotted']\n",
        "\n",
        "# Your code here"
      ],
      "metadata": {
        "id": "UoIcsjMu8OQi"
      },
      "execution_count": null,
      "outputs": []
    },
    {
      "cell_type": "markdown",
      "source": [
        "## Stemming\n",
        "Stemming is the process of reducing words to their stem."
      ],
      "metadata": {
        "id": "mF57GW2V8dO-"
      }
    },
    {
      "cell_type": "code",
      "source": [
        "# Three different stemmers\n",
        "from nltk.stem.porter import PorterStemmer\n",
        "from nltk.stem.lancaster import LancasterStemmer\n",
        "from nltk.stem import SnowballStemmer\n",
        "\n",
        "# Initializing stemmers\n",
        "ps = PorterStemmer()\n",
        "ls = LancasterStemmer()\n",
        "ss = SnowballStemmer(\"english\")\n",
        "\n",
        "print(ps.stem(example_word))\n",
        "print(ls.stem(example_word))\n",
        "print(ss.stem(example_word))"
      ],
      "metadata": {
        "id": "1KaUPExo8xyu"
      },
      "execution_count": null,
      "outputs": []
    },
    {
      "cell_type": "markdown",
      "source": [
        "👋 ⚒ Run the WordNet lemmatizer and the three stemmers above on the list `word_list` to directly compare the results. Which stemmer worked better in your view? Which method would you prefer to determine word frequency information of a text corpus?"
      ],
      "metadata": {
        "id": "myxWrSgA9Qv-"
      }
    },
    {
      "cell_type": "code",
      "source": [
        "# Your code here"
      ],
      "metadata": {
        "id": "3kyk-MYx9h7I"
      },
      "execution_count": null,
      "outputs": []
    },
    {
      "cell_type": "markdown",
      "source": [
        "## Dependency Parsing\n",
        "\n",
        "Dependency Parsing is the process of identifying direct binary grammatical relations between words/phrases in a sentence.\n",
        "\n",
        "Whenever grammatical relations are needed, dependency parsing is very useful. The most common tagset are the [Universal Dependency Relations](https://universaldependencies.org/u/dep/).\n",
        "\n",
        "We will start by looking at dependency parsing in spaCy."
      ],
      "metadata": {
        "id": "RoTK6PhyAoDo"
      }
    },
    {
      "cell_type": "markdown",
      "source": [
        "👋 ⚒ When looking at the [spaCy documentation](https://spacy.io/usage/linguistic-features), how can you adapt the previous spaCy code to perfom dependency parsing on `example_sentence2`?  \n"
      ],
      "metadata": {
        "id": "wBom4uyfBh1u"
      }
    },
    {
      "cell_type": "code",
      "source": [
        "example_sentence2 = \"Donald Trump, Elon Musk and CNN have cited election predictions from Polymarket, a betting site where crypto enthusiasts have wagered more than $100 million on who will win the presidency.\"\n",
        "\n",
        "doc = nlp(example_sentence2)\n",
        "\n",
        "# Your code here"
      ],
      "metadata": {
        "id": "Mg4MaovkBB8C"
      },
      "execution_count": null,
      "outputs": []
    },
    {
      "cell_type": "markdown",
      "source": [
        "spaCy offers this very simple and nice function to visualize dependency relations."
      ],
      "metadata": {
        "id": "JuuOe2_yBy2l"
      }
    },
    {
      "cell_type": "code",
      "source": [
        "# You can also visualize the dependency relations\n",
        "from spacy import displacy\n",
        "displacy.render(doc, style=\"dep\", jupyter=True)"
      ],
      "metadata": {
        "id": "qOHhOjbvB2dc"
      },
      "execution_count": null,
      "outputs": []
    },
    {
      "cell_type": "markdown",
      "source": [
        "While there are some options for dependency parsing in NLTK, the successful ones depend on the StanfordNLP Parser. Thus, we will directly use StanfordNLP and run all the previous steps in the socalled pipeline.\n",
        "\n",
        "First, we need to download the English model for StanfordNLP. You need to agree to download the model and specify a donwload directory, if preferred."
      ],
      "metadata": {
        "id": "x9F4lcWdBCrv"
      }
    },
    {
      "cell_type": "code",
      "source": [
        "import stanza\n",
        "stanza.download(\"en\")"
      ],
      "metadata": {
        "id": "IbyHrRNhBMIA"
      },
      "execution_count": null,
      "outputs": []
    },
    {
      "cell_type": "markdown",
      "source": [
        "Then we can run the library on the processing steps we are interested in.\n",
        "\n",
        "👋 ⚒ Try to split the many code elements within the F-String statement in the `print` line into a multi-line code, starting with the first for-loop.\n",
        "\n",
        "\n"
      ],
      "metadata": {
        "id": "Xey3gg2cCRma"
      }
    },
    {
      "cell_type": "code",
      "source": [
        "pipeline = stanza.Pipeline(lang='en', processor='tokenize,pos,lemma,depparse')\n",
        "doc = pipeline(example_sentence2)\n",
        "\n",
        "print(*[f'id: {word.id}\\tword: {word.text}\\thead id: {word.head}\\thead: {sent.words[word.head-1].text if word.head > 0 else \"root\"}\\tdeprel: {word.deprel}' for sent in doc.sentences for word in sent.words], sep='\\n')"
      ],
      "metadata": {
        "id": "HJtYRg-jCUi6"
      },
      "execution_count": null,
      "outputs": []
    },
    {
      "cell_type": "markdown",
      "source": [
        "❓ Do you notice any differences between the two types of dependency relations and the output for this sentence? Do the two parsers agree on the existing relations in this sentence?"
      ],
      "metadata": {
        "id": "kibkKH1eCrNB"
      }
    },
    {
      "cell_type": "markdown",
      "source": [
        "----------\n",
        "## **Lesson 2: Semantic Analysis with NLP libraries**\n",
        "\n",
        "Python has several built-in types that are useful for storing and manipulating data: list, tuple, dict. Here is the official Python documentation on these types (and many others): https://docs.python.org/3/library/stdtypes.html.\n"
      ],
      "metadata": {
        "id": "w0haUFZ8_K2j"
      }
    },
    {
      "cell_type": "markdown",
      "source": [
        "## Named Entity Recognition (NER)\n",
        "\n",
        "NER is a subtaks of information extraction that locates and classifies named entities, i.e., i.e., a real-world object that can be denoted with a proper name - person, organization, location, products, etc.\n",
        "\n",
        "With NLTK, NER requires a number of preprocessing steps. Thus, we will only look at spaCy for right now.\n",
        "\n",
        "❓ Which words/phrases of the `example_sentence2`do you consider named entities? When you run the code cell below, does the spaCy output differ from the NE list you identified?"
      ],
      "metadata": {
        "id": "v5h290OG-B_b"
      }
    },
    {
      "cell_type": "code",
      "source": [
        "doc = nlp(example_sentence2)\n",
        "\n",
        "for ent in doc.ents:\n",
        "    print(ent.text, ent.start_char, ent.end_char, ent.label_)"
      ],
      "metadata": {
        "id": "ZpVSMP_S-o4h"
      },
      "execution_count": null,
      "outputs": []
    },
    {
      "cell_type": "markdown",
      "source": [
        "👋 ⚒ Does the performance on NER with spaCy change if you lowercase all words in the sentence using the function `lower()`?"
      ],
      "metadata": {
        "id": "ZFdAiVolSdL2"
      }
    },
    {
      "cell_type": "code",
      "source": [
        "# Your code here"
      ],
      "metadata": {
        "id": "mudXpoZMSmau"
      },
      "execution_count": null,
      "outputs": []
    },
    {
      "cell_type": "markdown",
      "source": [
        "👋 ⚒ Use the displacy library of spaCy to visualize the named entities in `example_sentence2`."
      ],
      "metadata": {
        "id": "XWQlQwtkOqzI"
      }
    },
    {
      "cell_type": "code",
      "source": [
        "from spacy import displacy\n",
        "\n",
        "# Your code here"
      ],
      "metadata": {
        "id": "zKJLEbtwOzDm"
      },
      "execution_count": null,
      "outputs": []
    },
    {
      "cell_type": "markdown",
      "source": [
        "## Coreference Resolution\n",
        "\n",
        "Coreference resolution is the task of identifying all expressions (mentions) in a text that refer to the same real-world entity, such as \"“She has not told her friend about that story because it is too embarrassing for her.”\n",
        "![grafik.png](data:image/png;base64,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)"
      ],
      "metadata": {
        "id": "gC7a_1EzJo8o"
      }
    },
    {
      "cell_type": "markdown",
      "source": [
        "We will now try how well Stanza performs on this task.\n",
        "\n",
        "❓ Do you consider the references correctly resolved in the following output? Which language model does the default Standard `coref` process use?"
      ],
      "metadata": {
        "id": "ry9jl_DZJ2W7"
      }
    },
    {
      "cell_type": "code",
      "source": [
        "import stanza\n",
        "pipeline = stanza.Pipeline(\"en\", processors=\"tokenize,coref\")\n",
        "example_sentence3 = \"She has not told her friend about that story because it is too embarrassing for her.\"\n",
        "\n",
        "print(pipeline(example_sentence3))"
      ],
      "metadata": {
        "id": "ja1t9oPZJ8KU"
      },
      "execution_count": null,
      "outputs": []
    },
    {
      "cell_type": "markdown",
      "source": [
        "👋 ⚒ Adapt one of the [Winograd Schema examples](https://cs.nyu.edu/~davise/papers/WinogradSchemas/WSCollection.html) to see how well Stanza is able to resolve the coreferences.  "
      ],
      "metadata": {
        "id": "GWFBIaHnQpbp"
      }
    },
    {
      "cell_type": "code",
      "source": [
        "# Your code here"
      ],
      "metadata": {
        "id": "UOlnSg4EQ4ma"
      },
      "execution_count": null,
      "outputs": []
    },
    {
      "cell_type": "markdown",
      "source": [
        "# Bonus Exercise\n",
        "Compare the performance of Stanza on the Winograd Schema example of your choice to that of the [Coference Resolution plugin](https://github.com/richardpaulhudson/coreferee#getting-started) in spaCy."
      ],
      "metadata": {
        "id": "gERl0KU2RnsC"
      }
    },
    {
      "cell_type": "code",
      "source": [
        "!python -m spacy download en_core_web_trf\n",
        "!python -m spacy download en_core_web_lg\n",
        "!pip install coreferee\n",
        "!python -m coreferee install en"
      ],
      "metadata": {
        "id": "PcN-xLBDOhzq"
      },
      "execution_count": null,
      "outputs": []
    },
    {
      "cell_type": "code",
      "source": [
        "import coreferee, spacy\n",
        "nlp = spacy.load('en_core_web_trf')\n",
        "nlp.add_pipe('coreferee')\n",
        "doc = nlp('Although he was very busy with his work, Peter had had enough of it. He and his wife decided they needed a holiday. They travelled to Spain because they loved the country very much.')\n",
        "doc._.coref_chains.print()"
      ],
      "metadata": {
        "id": "ZmHpeWT1Ol4H"
      },
      "execution_count": null,
      "outputs": []
    }
  ]
}